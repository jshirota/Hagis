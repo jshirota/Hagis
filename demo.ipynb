{
 "cells": [
  {
   "attachments": {},
   "cell_type": "markdown",
   "metadata": {},
   "source": [
    "### Shortest code (duck typing)"
   ]
  },
  {
   "cell_type": "code",
   "execution_count": null,
   "metadata": {},
   "outputs": [],
   "source": [
    "from hagis import Layer\n",
    "\n",
    "for city in Layer(\"https://sampleserver6.arcgisonline.com/arcgis/rest/services/USA/MapServer/0\"):\n",
    "    print(city.areaname)\n"
   ]
  },
  {
   "attachments": {},
   "cell_type": "markdown",
   "metadata": {},
   "source": [
    "### Where clause"
   ]
  },
  {
   "cell_type": "code",
   "execution_count": null,
   "metadata": {},
   "outputs": [],
   "source": [
    "from hagis import Layer\n",
    "\n",
    "layer = Layer(\"https://sampleserver6.arcgisonline.com/arcgis/rest/services/USA/MapServer/0\")\n",
    "\n",
    "for city in layer.query(\"pop2000 > 1000000\"):\n",
    "    print(city.areaname)\n"
   ]
  },
  {
   "attachments": {},
   "cell_type": "markdown",
   "metadata": {},
   "source": [
    "### Other keyword arguments"
   ]
  },
  {
   "cell_type": "code",
   "execution_count": null,
   "metadata": {},
   "outputs": [],
   "source": [
    "from hagis import Layer\n",
    "\n",
    "layer = Layer(\"https://sampleserver6.arcgisonline.com/arcgis/rest/services/USA/MapServer/0\")\n",
    "\n",
    "for city in layer.query(\"pop2000 > 1000000\", orderByFields=\"pop2000 DESC\"):\n",
    "    print(city.areaname, city.pop2000)\n"
   ]
  },
  {
   "attachments": {},
   "cell_type": "markdown",
   "metadata": {},
   "source": [
    "### Static typing"
   ]
  },
  {
   "cell_type": "code",
   "execution_count": null,
   "metadata": {
    "dotnet_interactive": {
     "language": "csharp"
    },
    "polyglot_notebook": {
     "kernelName": "csharp"
    }
   },
   "outputs": [],
   "source": [
    "from hagis import Layer, Point\n",
    "\n",
    "class City:\n",
    "    objectid: int\n",
    "    areaname: str\n",
    "    pop2000: int\n",
    "    geometry: Point\n",
    "\n",
    "for city in Layer(\"https://sampleserver6.arcgisonline.com/arcgis/rest/services/USA/MapServer/0\", City):\n",
    "    print(city.areaname, city.pop2000, city.geometry.x, city.geometry.y)\n"
   ]
  },
  {
   "attachments": {},
   "cell_type": "markdown",
   "metadata": {},
   "source": [
    "### Lambda filter (limited support)"
   ]
  },
  {
   "cell_type": "code",
   "execution_count": null,
   "metadata": {},
   "outputs": [],
   "source": [
    "from hagis import Layer\n",
    "\n",
    "class City:\n",
    "    objectid: int\n",
    "    areaname: str\n",
    "    pop2000: int\n",
    "\n",
    "layer = Layer(\"https://sampleserver6.arcgisonline.com/arcgis/rest/services/USA/MapServer/0\", City)\n",
    "\n",
    "for city in layer.query(lambda x: x.pop2000 > 200000 and x.areaname.startswith(\"A\")):\n",
    "    print(city.areaname, city.pop2000)\n"
   ]
  },
  {
   "attachments": {},
   "cell_type": "markdown",
   "metadata": {},
   "source": [
    "### Data frame"
   ]
  },
  {
   "cell_type": "code",
   "execution_count": null,
   "metadata": {},
   "outputs": [],
   "source": [
    "from hagis import Layer\n",
    "import pandas as pd\n",
    "\n",
    "class City:\n",
    "    objectid: int\n",
    "    areaname: str\n",
    "    pop2000: int\n",
    "\n",
    "layer = Layer(\"https://sampleserver6.arcgisonline.com/arcgis/rest/services/USA/MapServer/0\", City)\n",
    "\n",
    "pd.DataFrame.from_records(city.__dict__ for city in layer.query(\n",
    "    lambda x: x.pop2000 > 1000000,\n",
    "    record_count=5,\n",
    "    orderByFields=\"pop2000 DESC\"))\n"
   ]
  },
  {
   "attachments": {},
   "cell_type": "markdown",
   "metadata": {},
   "source": [
    "### Mapping to a dataclass"
   ]
  },
  {
   "cell_type": "code",
   "execution_count": null,
   "metadata": {
    "dotnet_interactive": {
     "language": "csharp"
    },
    "polyglot_notebook": {
     "kernelName": "csharp"
    }
   },
   "outputs": [],
   "source": [
    "from hagis import Layer, Polyline\n",
    "from dataclasses import dataclass\n",
    "\n",
    "@dataclass(frozen=True)\n",
    "class Highway:\n",
    "    objectid: int\n",
    "    route: str\n",
    "    shape: Polyline\n",
    "\n",
    "layer = Layer(\"https://sampleserver6.arcgisonline.com/arcgis/rest/services/USA/MapServer/1\", Highway)\n",
    "\n",
    "for highway in layer.query():\n",
    "    print(highway.route)\n"
   ]
  },
  {
   "attachments": {},
   "cell_type": "markdown",
   "metadata": {},
   "source": [
    "### Mapping to a named tuple"
   ]
  },
  {
   "cell_type": "code",
   "execution_count": null,
   "metadata": {},
   "outputs": [],
   "source": [
    "from hagis import Layer, Polyline\n",
    "from typing import NamedTuple\n",
    "\n",
    "class Highway(NamedTuple):\n",
    "    objectid: int\n",
    "    route: str\n",
    "    geometry: Polyline\n",
    "\n",
    "layer = Layer(\"https://sampleserver6.arcgisonline.com/arcgis/rest/services/USA/MapServer/1\", Highway)\n",
    "\n",
    "for highway in layer.query():\n",
    "    print(highway.route)\n"
   ]
  },
  {
   "attachments": {},
   "cell_type": "markdown",
   "metadata": {},
   "source": [
    "### Mapping to Shapely geometry"
   ]
  },
  {
   "cell_type": "code",
   "execution_count": null,
   "metadata": {},
   "outputs": [],
   "source": [
    "from hagis import Layer\n",
    "from shapely import MultiPolygon\n",
    "\n",
    "class State:\n",
    "    state_name: str\n",
    "    pop2000: int\n",
    "    geometry: MultiPolygon\n",
    "\n",
    "layer = Layer(\"https://sampleserver6.arcgisonline.com/arcgis/rest/services/USA/MapServer/2\", State)\n",
    "\n",
    "for state in layer.query(record_count=4, orderByFields=\"pop2000 DESC\"):\n",
    "    print(state.state_name, state.pop2000, state.geometry.centroid.x, state.geometry.centroid.y)\n",
    "    display(state.geometry.geoms[0])\n"
   ]
  },
  {
   "attachments": {},
   "cell_type": "markdown",
   "metadata": {},
   "source": [
    "### GeoPandas"
   ]
  },
  {
   "cell_type": "code",
   "execution_count": null,
   "metadata": {},
   "outputs": [],
   "source": [
    "from hagis import Layer\n",
    "from geopandas import GeoDataFrame\n",
    "from matplotlib import patheffects\n",
    "from shapely.geometry import MultiPolygon\n",
    "\n",
    "class State:\n",
    "    state_name: str\n",
    "    pop2000: int\n",
    "    geometry: MultiPolygon\n",
    "\n",
    "layer = Layer(\"https://sampleserver6.arcgisonline.com/arcgis/rest/services/USA/MapServer/2\", State)\n",
    "states = list(layer.query(lambda x: x.pop2000 > 10000000))\n",
    "\n",
    "gdf = GeoDataFrame(map(vars, states))\n",
    "plot = gdf.plot(column=\"pop2000\")\n",
    "\n",
    "for state in states:\n",
    "    plot.annotate(state.state_name, state.geometry.centroid.coords[0], ha=\"center\",\n",
    "                  path_effects=[patheffects.withStroke(linewidth=2, foreground=\"white\")])\n"
   ]
  },
  {
   "attachments": {},
   "cell_type": "markdown",
   "metadata": {},
   "source": [
    "### Mapping to Esri geometry"
   ]
  },
  {
   "cell_type": "code",
   "execution_count": null,
   "metadata": {},
   "outputs": [],
   "source": [
    "from hagis import Layer\n",
    "from arcgis.geometry import Polygon  # type: ignore\n",
    "\n",
    "class State:\n",
    "    state_name: str\n",
    "    pop2000: int\n",
    "    geometry: Polygon\n",
    "\n",
    "layer = Layer(\"https://sampleserver6.arcgisonline.com/arcgis/rest/services/USA/MapServer/2\", State)\n",
    "\n",
    "for state in layer.query(record_count=4, orderByFields=\"pop2000 DESC\"):\n",
    "    print(state.state_name, state.pop2000, state.geometry.centroid)\n",
    "    display(state.geometry.buffer(0.2))\n"
   ]
  },
  {
   "attachments": {},
   "cell_type": "markdown",
   "metadata": {},
   "source": [
    "### Custom property to field mapping"
   ]
  },
  {
   "cell_type": "code",
   "execution_count": null,
   "metadata": {},
   "outputs": [],
   "source": [
    "from hagis import Layer, Polyline\n",
    "\n",
    "class Highway:\n",
    "    objectid: int\n",
    "    name: str  # This is actually called \"route\" in the table.\n",
    "    geometry: Polyline\n",
    "\n",
    "custom_mapping = {\n",
    "    \"name\": \"route\",\n",
    "    \"type\": \"type\" # This is not even defined in the Highway class (i.e. customer-specific field).\n",
    "}\n",
    "\n",
    "layer = Layer(\"https://sampleserver6.arcgisonline.com/arcgis/rest/services/USA/MapServer/1\", Highway, **custom_mapping)\n",
    "\n",
    "for highway in layer.query():\n",
    "    print(highway.name, getattr(highway, \"type\")) # Can be accessed like highway.type (though it doesn't make sense to do so).\n"
   ]
  },
  {
   "attachments": {},
   "cell_type": "markdown",
   "metadata": {},
   "source": [
    "### Coded value domain"
   ]
  },
  {
   "cell_type": "code",
   "execution_count": null,
   "metadata": {},
   "outputs": [],
   "source": [
    "from enum import Enum\n",
    "from typing import Optional\n",
    "from uuid import UUID\n",
    "from hagis import Layer, Point\n",
    "\n",
    "class Factype(Enum):\n",
    "    Public_Safety_Resource = 1\n",
    "    Pet_Collection_Shelter = 2\n",
    "    Shelter = 3\n",
    "\n",
    "class Opsstatus(Enum):\n",
    "    Open = \"Open\"\n",
    "    Closed = \"Closed\"\n",
    "    Unknown = \"Unknown\"\n",
    "\n",
    "class Facility:\n",
    "    objectid: int\n",
    "    facilityid: Optional[str]\n",
    "    factype: Optional[Factype]\n",
    "    opsstatus: Optional[Opsstatus]\n",
    "    globalid: UUID\n",
    "    geometry: Point\n",
    "\n",
    "layer = Layer(\"https://sampleserver6.arcgisonline.com/arcgis/rest/services/EmergencyFacilities/FeatureServer/0\", Facility)\n",
    "\n",
    "for facility in layer.query():\n",
    "    if facility.factype == Factype.Public_Safety_Resource:\n",
    "        print(facility.__dict__)\n"
   ]
  },
  {
   "attachments": {},
   "cell_type": "markdown",
   "metadata": {},
   "source": [
    "### Coded value domain (with data issues)"
   ]
  },
  {
   "cell_type": "code",
   "execution_count": null,
   "metadata": {},
   "outputs": [],
   "source": [
    "from enum import Enum\n",
    "from typing import Union\n",
    "from hagis import Layer, Point\n",
    "\n",
    "class Opsstatus(Enum):\n",
    "    Open = \"Open\"\n",
    "    Closed = \"Closed\"\n",
    "    Unknown = \"Unknown\"\n",
    "\n",
    "class Facility:\n",
    "    objectid: int\n",
    "    opsstatus: Union[Opsstatus, str, None]\n",
    "    geometry: Point\n",
    "\n",
    "layer = Layer(\"https://sampleserver6.arcgisonline.com/arcgis/rest/services/EmergencyFacilities/FeatureServer/0\", Facility)\n",
    "\n",
    "for facility in layer.query():\n",
    "    if facility.opsstatus is None:\n",
    "        print(\"<null>\")\n",
    "    elif isinstance(facility.opsstatus, Opsstatus):\n",
    "        print(facility.opsstatus.name)\n",
    "    else:\n",
    "        print(f\"'{facility.opsstatus}' is not a valid status!\")\n"
   ]
  },
  {
   "attachments": {},
   "cell_type": "markdown",
   "metadata": {},
   "source": [
    "### Parallel download (and yield) 100K records"
   ]
  },
  {
   "cell_type": "code",
   "execution_count": null,
   "metadata": {
    "dotnet_interactive": {
     "language": "csharp"
    },
    "polyglot_notebook": {
     "kernelName": "csharp"
    }
   },
   "outputs": [],
   "source": [
    "from datetime import datetime\n",
    "from hagis import Layer\n",
    "\n",
    "class Rain:\n",
    "    objectid: int\n",
    "    site_no: str\n",
    "    date_time: datetime\n",
    "    rainfall_inch: float\n",
    "\n",
    "layer = Layer(\"https://sampleserver6.arcgisonline.com/arcgis/rest/services/SpatioTemporalAggregation/RainfallTimeSeriesDataIllinois/MapServer/7\", Rain)\n",
    "\n",
    "print(f\"This layer has {layer.count()} records!\")\n",
    "\n",
    "# Keep querying.\n",
    "for rain in layer.query(record_count=100000):\n",
    "    print(rain.__dict__)\n"
   ]
  },
  {
   "attachments": {},
   "cell_type": "markdown",
   "metadata": {},
   "source": [
    "### Insert"
   ]
  },
  {
   "cell_type": "code",
   "execution_count": null,
   "metadata": {
    "dotnet_interactive": {
     "language": "csharp"
    },
    "polyglot_notebook": {
     "kernelName": "csharp"
    }
   },
   "outputs": [],
   "source": [
    "from hagis import Layer, Point\n",
    "\n",
    "class Ambulance:\n",
    "    objectid: int\n",
    "    unitname: str\n",
    "    type: int\n",
    "    speed: float\n",
    "    geometry: Point\n",
    "\n",
    "layer = Layer(\"https://sampleserver6.arcgisonline.com/arcgis/rest/services/RedlandsEmergencyVehicles/FeatureServer/0\", Ambulance)\n",
    "\n",
    "ambulance = Ambulance()\n",
    "ambulance.unitname = \"Created by https://pypi.org/project/hagis/\"\n",
    "ambulance.type = 1\n",
    "ambulance.speed = 12.34567\n",
    "ambulance.geometry = Point()\n",
    "ambulance.geometry.x, ambulance.geometry.y = -120, 50\n",
    "\n",
    "# Returns the newly created object ids.\n",
    "oid = layer.insert([ambulance])[0]\n",
    "\n",
    "layer.find(oid).__dict__\n"
   ]
  },
  {
   "attachments": {},
   "cell_type": "markdown",
   "metadata": {},
   "source": [
    "### Update"
   ]
  },
  {
   "cell_type": "code",
   "execution_count": null,
   "metadata": {},
   "outputs": [],
   "source": [
    "from hagis import Layer\n",
    "\n",
    "class Ambulance:\n",
    "    objectid: int\n",
    "    unitname: str\n",
    "\n",
    "layer = Layer(\"https://sampleserver6.arcgisonline.com/arcgis/rest/services/RedlandsEmergencyVehicles/FeatureServer/0\", Ambulance)\n",
    "\n",
    "where_clause = \"unitname LIKE '%hagis%'\"\n",
    "\n",
    "# Update requires materializing records first.\n",
    "ambulances = list(layer.query(where_clause))\n",
    "\n",
    "for ambulance in ambulances:\n",
    "    ambulance.unitname = \"Updated by https://pypi.org/project/hagis/\"\n",
    "\n",
    "# Send the list back to the server.\n",
    "layer.update(ambulances)\n",
    "\n",
    "for ambulance in layer.query(where_clause):\n",
    "    print(ambulance.__dict__)\n"
   ]
  },
  {
   "attachments": {},
   "cell_type": "markdown",
   "metadata": {},
   "source": [
    "### Delete"
   ]
  },
  {
   "cell_type": "code",
   "execution_count": null,
   "metadata": {
    "dotnet_interactive": {
     "language": "csharp"
    },
    "polyglot_notebook": {
     "kernelName": "csharp"
    }
   },
   "outputs": [],
   "source": [
    "from hagis import Layer\n",
    "\n",
    "layer = Layer(\"https://sampleserver6.arcgisonline.com/arcgis/rest/services/RedlandsEmergencyVehicles/FeatureServer/0\")\n",
    "\n",
    "where_clause = \"unitname LIKE '%hagis%'\"\n",
    "\n",
    "print(\"Before\", layer.count(where_clause))\n",
    "\n",
    "# Delete requires the where clause.\n",
    "layer.delete(where_clause)\n",
    "\n",
    "print(\"After\", layer.count(where_clause))\n"
   ]
  },
  {
   "attachments": {},
   "cell_type": "markdown",
   "metadata": {},
   "source": [
    "### Generic operations"
   ]
  },
  {
   "cell_type": "code",
   "execution_count": null,
   "metadata": {},
   "outputs": [],
   "source": [
    "\n",
    "from dataclasses import dataclass\n",
    "from datetime import datetime, timedelta\n",
    "from typing import Iterator, Optional, Type, TypeVar\n",
    "from hagis import Layer, Point, Polyline, Polygon\n",
    "\n",
    "URL = \"https://sampleserver6.arcgisonline.com/arcgis/rest/services/Wildfire/FeatureServer\"\n",
    "\n",
    "@dataclass(frozen=True)\n",
    "class Tracked:\n",
    "    objectid: int\n",
    "    created_user: str\n",
    "    created_date: datetime\n",
    "    last_edited_user: Optional[str]\n",
    "    last_edited_date: Optional[datetime]\n",
    "\n",
    "@dataclass(frozen=True)\n",
    "class ResponsePoint(Tracked):\n",
    "    rotation: Optional[int]\n",
    "    description: Optional[str]\n",
    "    geometry: Point\n",
    "\n",
    "@dataclass(frozen=True)\n",
    "class ResponseLine(Tracked):\n",
    "    symbolid: Optional[int]\n",
    "    timestamp: Optional[datetime]\n",
    "    description: Optional[str]\n",
    "    shape__length: float\n",
    "    geometry: Polyline\n",
    "\n",
    "@dataclass(frozen=True)\n",
    "class ResponsePolygon(Tracked):\n",
    "    symbolid: Optional[int]\n",
    "    description: Optional[str]\n",
    "    shape__area: float\n",
    "    geometry: Polygon\n",
    "\n",
    "T = TypeVar(\"T\", bound=Tracked)\n",
    "\n",
    "def get_recent_responses(model: Type[T], layer_id: int, hours: int) -> Iterator[T]:\n",
    "    layer = Layer(f\"{URL}/{layer_id}\", model)\n",
    "    time = datetime.utcnow() + timedelta(hours=-hours)\n",
    "    for response in layer.query(lambda x: x.last_edited_date is not None and x.last_edited_date > time):\n",
    "        yield response\n",
    "\n",
    "last_n_hours = 4\n",
    "\n",
    "print(f\"Response points edited in the last {last_n_hours} hour(s)\")\n",
    "for r in get_recent_responses(ResponsePoint, 0, last_n_hours):\n",
    "    print(r.last_edited_date, r.rotation)\n",
    "\n",
    "print(f\"Response lines edited in the last {last_n_hours} hour(s)\")\n",
    "for r in get_recent_responses(ResponseLine, 1, last_n_hours):\n",
    "    print(r.last_edited_date, r.timestamp)\n",
    "\n",
    "print(f\"Response polygons edited in the last {last_n_hours} hour(s)\")\n",
    "for r in get_recent_responses(ResponsePolygon, 2, last_n_hours):\n",
    "    print(r.last_edited_date, r.symbolid)\n"
   ]
  },
  {
   "attachments": {},
   "cell_type": "markdown",
   "metadata": {},
   "source": [
    "### Static duck type constraint"
   ]
  },
  {
   "cell_type": "code",
   "execution_count": null,
   "metadata": {},
   "outputs": [],
   "source": [
    "from dataclasses import dataclass\n",
    "from datetime import datetime, timedelta\n",
    "from typing import Iterator, Optional, Protocol, Type, TypeVar\n",
    "from hagis import Layer, Point, Polyline, Polygon\n",
    "\n",
    "URL = \"https://sampleserver6.arcgisonline.com/arcgis/rest/services/Wildfire/FeatureServer\"\n",
    "\n",
    "class Tracked(Protocol):\n",
    "    objectid: int\n",
    "    created_user: str\n",
    "    created_date: datetime\n",
    "    last_edited_user: Optional[str]\n",
    "    last_edited_date: Optional[datetime]\n",
    "\n",
    "@dataclass(frozen=True)\n",
    "class ResponsePoint:\n",
    "    objectid: int\n",
    "    created_user: str\n",
    "    created_date: datetime\n",
    "    last_edited_user: Optional[str]\n",
    "    last_edited_date: Optional[datetime]\n",
    "    rotation: Optional[int]\n",
    "    description: Optional[str]\n",
    "    geometry: Point\n",
    "\n",
    "@dataclass(frozen=True)\n",
    "class ResponseLine:\n",
    "    objectid: int\n",
    "    created_user: str\n",
    "    created_date: datetime\n",
    "    last_edited_user: Optional[str]\n",
    "    last_edited_date: Optional[datetime]\n",
    "    symbolid: Optional[int]\n",
    "    timestamp: Optional[datetime]\n",
    "    description: Optional[str]\n",
    "    shape__length: float\n",
    "    geometry: Polyline\n",
    "\n",
    "@dataclass(frozen=True)\n",
    "class ResponsePolygon:\n",
    "    objectid: int\n",
    "    created_user: str\n",
    "    created_date: datetime\n",
    "    last_edited_user: Optional[str]\n",
    "    last_edited_date: Optional[datetime]\n",
    "    symbolid: Optional[int]\n",
    "    description: Optional[str]\n",
    "    shape__area: float\n",
    "    geometry: Polygon\n",
    "\n",
    "T = TypeVar(\"T\", bound=Tracked)\n",
    "\n",
    "def get_recent_responses(model: Type[T], layer_id: int, hours: int) -> Iterator[T]:\n",
    "    layer = Layer(f\"{URL}/{layer_id}\", model)\n",
    "    time = datetime.utcnow() + timedelta(hours=-hours)\n",
    "    for response in layer.query(lambda x: x.last_edited_date is not None and x.last_edited_date > time):\n",
    "        yield response\n",
    "\n",
    "last_n_hours = 4\n",
    "\n",
    "print(f\"Response points edited in the last {last_n_hours} hour(s)\")\n",
    "for r in get_recent_responses(ResponsePoint, 0, last_n_hours):\n",
    "    print(r.last_edited_date, r.rotation)\n",
    "\n",
    "print(f\"Response lines edited in the last {last_n_hours} hour(s)\")\n",
    "for r in get_recent_responses(ResponseLine, 1, last_n_hours):\n",
    "    print(r.last_edited_date, r.timestamp)\n",
    "\n",
    "print(f\"Response polygons edited in the last {last_n_hours} hour(s)\")\n",
    "for r in get_recent_responses(ResponsePolygon, 2, last_n_hours):\n",
    "    print(r.last_edited_date, r.symbolid)\n"
   ]
  },
  {
   "attachments": {},
   "cell_type": "markdown",
   "metadata": {},
   "source": [
    "### Authentication token"
   ]
  },
  {
   "cell_type": "code",
   "execution_count": null,
   "metadata": {},
   "outputs": [],
   "source": [
    "from hagis import Layer\n",
    "from getpass import getpass\n",
    "\n",
    "layer = Layer(\"https://services8.arcgis.com/hlI3WvZMbprlF0sO/ArcGIS/rest/services/Redlands_65985/FeatureServer/0\")\n",
    "\n",
    "# Self-renewing token.\n",
    "layer.set_token_generator(\"jshirota\", getpass(), \"https://myserver/mywebapp\")\n",
    "\n",
    "# Static token.\n",
    "# layer.set_token(\"token123\")\n",
    "\n",
    "for ambulance in layer.query():\n",
    "    print(ambulance)\n"
   ]
  }
 ],
 "metadata": {
  "kernelspec": {
   "display_name": "Python 3",
   "language": "python",
   "name": "python3"
  },
  "language_info": {
   "codemirror_mode": {
    "name": "ipython",
    "version": 3
   },
   "file_extension": ".py",
   "mimetype": "text/x-python",
   "name": "python",
   "nbconvert_exporter": "python",
   "pygments_lexer": "ipython3",
   "version": "3.11.3"
  },
  "orig_nbformat": 4,
  "polyglot_notebook": {
   "kernelInfo": {
    "defaultKernelName": "csharp",
    "items": [
     {
      "aliases": [
       "C#",
       "c#"
      ],
      "languageName": "C#",
      "name": "csharp"
     },
     {
      "aliases": [
       "js"
      ],
      "name": "javascript"
     },
     {
      "aliases": [],
      "languageName": "Mermaid",
      "name": "mermaid"
     },
     {
      "aliases": [],
      "name": "value"
     }
    ]
   }
  }
 },
 "nbformat": 4,
 "nbformat_minor": 2
}
