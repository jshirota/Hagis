{
 "cells": [
  {
   "cell_type": "code",
   "execution_count": null,
   "metadata": {
    "dotnet_interactive": {
     "language": "csharp"
    },
    "polyglot_notebook": {
     "kernelName": "csharp"
    }
   },
   "outputs": [],
   "source": [
    "from hagis import Mapper, Point\n",
    "\n",
    "url = \"https://sampleserver6.arcgisonline.com/arcgis/rest/services/USA/MapServer/0\"\n",
    "\n",
    "class City:\n",
    "    objectid: int\n",
    "    areaname: str\n",
    "    pop2000: int\n",
    "    shape: Point\n",
    "\n",
    "mapper = Mapper(url, City)\n",
    "\n",
    "for city in mapper.query(\"pop2000 > 1000000\", orderByFields=\"pop2000 DESC\"):\n",
    "    print(city.areaname, city.pop2000, city.shape.x, city.shape.y)\n"
   ]
  },
  {
   "cell_type": "code",
   "execution_count": null,
   "metadata": {
    "dotnet_interactive": {
     "language": "csharp"
    },
    "polyglot_notebook": {
     "kernelName": "csharp"
    }
   },
   "outputs": [],
   "source": [
    "from hagis import Mapper\n",
    "\n",
    "url = \"https://sampleserver6.arcgisonline.com/arcgis/rest/services/USA/MapServer/0\"\n",
    "\n",
    "# Not specifying the target type results in \"SimpleNamespace\" objects.\n",
    "mapper = Mapper(url)\n",
    "\n",
    "# Keyword arguments such as \"outSR\" are also sent to the Esri API.\n",
    "for city in mapper.query(\"pop2000 > 1000000\", orderByFields=\"pop2000 DESC\", outSR=102100):\n",
    "    print(city.areaname, city.pop2000, city.shape.x, city.shape.y)\n",
    "\n",
    "# Contains all fields.\n",
    "city.__dict__\n"
   ]
  },
  {
   "cell_type": "code",
   "execution_count": null,
   "metadata": {
    "dotnet_interactive": {
     "language": "csharp"
    },
    "polyglot_notebook": {
     "kernelName": "csharp"
    }
   },
   "outputs": [],
   "source": [
    "from hagis import Mapper, Polyline\n",
    "from dataclasses import dataclass\n",
    "\n",
    "url = \"https://sampleserver6.arcgisonline.com/arcgis/rest/services/USA/MapServer/1\"\n",
    "\n",
    "# Optionally supports dataclass.\n",
    "@dataclass(frozen=True)\n",
    "class Highway:\n",
    "    objectid: int\n",
    "    type: str\n",
    "    name: str # This is actually called \"route\" in the table.\n",
    "    shape: Polyline\n",
    "\n",
    "mapper = Mapper(url, Highway, mapping={\"name\": \"route\"})\n",
    "\n",
    "for highway in mapper.query(\"route = 'Interstate  55'\"):\n",
    "    print(highway.objectid, highway.name, highway.type)\n"
   ]
  },
  {
   "cell_type": "code",
   "execution_count": null,
   "metadata": {
    "dotnet_interactive": {
     "language": "csharp"
    },
    "polyglot_notebook": {
     "kernelName": "csharp"
    }
   },
   "outputs": [],
   "source": [
    "from hagis import Mapper\n",
    "from datetime import datetime\n",
    "from itertools import islice\n",
    "\n",
    "url = \"https://sampleserver6.arcgisonline.com/arcgis/rest/services/SpatioTemporalAggregation/RainfallTimeSeriesDataIllinois/MapServer/7\"\n",
    "\n",
    "class Rain:\n",
    "    objectid: int\n",
    "    site_no: str\n",
    "    date_time: datetime\n",
    "    rainfall_inch: float\n",
    "\n",
    "# Non-spatial table.\n",
    "mapper = Mapper(url, Rain)\n",
    "\n",
    "# Take only 10 records (otherwise keeps yielding).\n",
    "for rain in islice(mapper.query(), 10):\n",
    "    print(rain.__dict__)\n"
   ]
  },
  {
   "cell_type": "code",
   "execution_count": null,
   "metadata": {
    "dotnet_interactive": {
     "language": "csharp"
    },
    "polyglot_notebook": {
     "kernelName": "csharp"
    }
   },
   "outputs": [],
   "source": [
    "from hagis import Mapper\n",
    "\n",
    "url = \"https://sampleserver6.arcgisonline.com/arcgis/rest/services/RedlandsEmergencyVehicles/FeatureServer/0\"\n",
    "\n",
    "mapper = Mapper(url)\n",
    "\n",
    "mapper.delete(\"unitname LIKE '%Hagis%'\")\n"
   ]
  },
  {
   "cell_type": "code",
   "execution_count": null,
   "metadata": {},
   "outputs": [],
   "source": [
    "from hagis import Mapper\n",
    "\n",
    "url = \"https://sampleserver6.arcgisonline.com/arcgis/rest/services/RedlandsEmergencyVehicles/FeatureServer/0\"\n",
    "\n",
    "[item for item in Mapper(url).query(\"unitname LIKE '%Hagis%'\")]\n"
   ]
  },
  {
   "cell_type": "code",
   "execution_count": null,
   "metadata": {
    "dotnet_interactive": {
     "language": "csharp"
    },
    "polyglot_notebook": {
     "kernelName": "csharp"
    }
   },
   "outputs": [],
   "source": [
    "from hagis import Mapper, Point\n",
    "\n",
    "url = \"https://sampleserver6.arcgisonline.com/arcgis/rest/services/RedlandsEmergencyVehicles/FeatureServer/0\"\n",
    "\n",
    "class Ambulance:\n",
    "    objectid: int\n",
    "    unitname: str\n",
    "    type: int\n",
    "    speed: float\n",
    "    shape: Point\n",
    "\n",
    "mapper = Mapper(url, Ambulance)\n",
    "\n",
    "ambulance = Ambulance()\n",
    "ambulance.unitname = \"Created by https://github.com/jshirota/Hagis\"\n",
    "ambulance.type = 1\n",
    "ambulance.speed = 12.34567\n",
    "ambulance.shape = Point()\n",
    "ambulance.shape.x, ambulance.shape.y = -120, 50\n",
    "\n",
    "# Returns the newly created object ids.\n",
    "oid = mapper.insert([ambulance])[0]\n",
    "\n",
    "mapper.find(oid).__dict__\n"
   ]
  }
 ],
 "metadata": {
  "kernelspec": {
   "display_name": "Python 3",
   "language": "python",
   "name": "python3"
  },
  "language_info": {
   "codemirror_mode": {
    "name": "ipython",
    "version": 3
   },
   "file_extension": ".py",
   "mimetype": "text/x-python",
   "name": "python",
   "nbconvert_exporter": "python",
   "pygments_lexer": "ipython3",
   "version": "3.9.16"
  },
  "orig_nbformat": 4,
  "polyglot_notebook": {
   "kernelInfo": {
    "defaultKernelName": "csharp",
    "items": [
     {
      "aliases": [
       "C#",
       "c#"
      ],
      "languageName": "C#",
      "name": "csharp"
     },
     {
      "aliases": [
       "js"
      ],
      "name": "javascript"
     },
     {
      "aliases": [],
      "languageName": "Mermaid",
      "name": "mermaid"
     },
     {
      "aliases": [],
      "name": "value"
     }
    ]
   }
  }
 },
 "nbformat": 4,
 "nbformat_minor": 2
}
